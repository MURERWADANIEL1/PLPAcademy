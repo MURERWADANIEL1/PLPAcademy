{
 "cells": [
  {
   "cell_type": "code",
   "execution_count": null,
   "id": "e1e63d33",
   "metadata": {},
   "outputs": [],
   "source": []
  },
  {
   "cell_type": "code",
   "execution_count": 2,
   "id": "b2349cdd",
   "metadata": {},
   "outputs": [
    {
     "name": "stdout",
     "output_type": "stream",
     "text": [
      "n = 1, Recursive Sum = 1, Formula Sum = 1.0\n",
      "n = 2, Recursive Sum = 3, Formula Sum = 3.0\n",
      "n = 3, Recursive Sum = 6, Formula Sum = 6.0\n",
      "n = 4, Recursive Sum = 10, Formula Sum = 10.0\n",
      "n = 5, Recursive Sum = 15, Formula Sum = 15.0\n",
      "n = 6, Recursive Sum = 21, Formula Sum = 21.0\n",
      "n = 7, Recursive Sum = 28, Formula Sum = 28.0\n",
      "n = 8, Recursive Sum = 36, Formula Sum = 36.0\n",
      "n = 9, Recursive Sum = 45, Formula Sum = 45.0\n",
      "n = 10, Recursive Sum = 55, Formula Sum = 55.0\n"
     ]
    }
   ],
   "source": [
    "def summing(n):\n",
    "    if n==0:\n",
    "        return 0\n",
    "    return n + summing(n - 1)\n",
    "\n",
    "for i in range(1, 11):\n",
    "    recursive_sum = summing(i)\n",
    "\n",
    "    formula_sum = (i * (i + 1)) / 2\n",
    "\n",
    "    print(f\"n = {i}, Recursive Sum = {recursive_sum}, Formula Sum = {formula_sum}\")"
   ]
  },
  {
   "cell_type": "code",
   "execution_count": 6,
   "id": "79442dbd",
   "metadata": {},
   "outputs": [
    {
     "name": "stdout",
     "output_type": "stream",
     "text": [
      "3.142 radians\n",
      "Ways to choose 3 players from 10: 120\n"
     ]
    }
   ],
   "source": [
    "import math\n",
    "x=180\n",
    "print(f\"{math.radians(x):.3f} radians\")\n",
    "\n",
    "players=10\n",
    "teams=3\n",
    "ways=math.comb(players, teams)\n",
    "print(f\"Ways to choose {teams} players from {players}: {ways}\")"
   ]
  },
  {
   "cell_type": "code",
   "execution_count": null,
   "id": "36a96732",
   "metadata": {},
   "outputs": [
    {
     "data": {
      "text/plain": [
       "2.0"
      ]
     },
     "execution_count": 7,
     "metadata": {},
     "output_type": "execute_result"
    }
   ],
   "source": [
    "math.log(100, 10)\n"
   ]
  },
  {
   "cell_type": "code",
   "execution_count": 9,
   "id": "ef262c2b",
   "metadata": {},
   "outputs": [
    {
     "data": {
      "text/plain": [
       "3.3219280948873626"
      ]
     },
     "execution_count": 9,
     "metadata": {},
     "output_type": "execute_result"
    }
   ],
   "source": [
    "math.log(10,2)"
   ]
  },
  {
   "cell_type": "code",
   "execution_count": 10,
   "id": "4e002578",
   "metadata": {},
   "outputs": [
    {
     "data": {
      "text/plain": [
       "2.302585092994046"
      ]
     },
     "execution_count": 10,
     "metadata": {},
     "output_type": "execute_result"
    }
   ],
   "source": [
    "math.log(10)"
   ]
  },
  {
   "cell_type": "code",
   "execution_count": 12,
   "id": "ab9fa75d",
   "metadata": {},
   "outputs": [
    {
     "data": {
      "text/plain": [
       "3.3219280948873626"
      ]
     },
     "execution_count": 12,
     "metadata": {},
     "output_type": "execute_result"
    }
   ],
   "source": [
    "math.log(10,2)"
   ]
  },
  {
   "cell_type": "code",
   "execution_count": null,
   "id": "2365df4c",
   "metadata": {},
   "outputs": [
    {
     "name": "stdout",
     "output_type": "stream",
     "text": [
      "Triangle Area: 6.0\n"
     ]
    }
   ],
   "source": [
    "\n",
    "def triangle_area_heron(a, b, c):\n",
    "    s = (a + b + c) / 2\n",
    "    area = math.sqrt(s * (s - a) * (s - b) * (s - c))\n",
    "    return area\n",
    "\n",
    "side1, side2, side3 = 3, 4, 5\n",
    "area = triangle_area_heron(side1, side2, side3)\n",
    "print(f\"Triangle Area: {area}\") # Outputs 6.0"
   ]
  },
  {
   "cell_type": "code",
   "execution_count": 14,
   "id": "725e9b51",
   "metadata": {},
   "outputs": [
    {
     "name": "stdout",
     "output_type": "stream",
     "text": [
      "Set A: {1, 2, 3, 4}\n",
      "Set B: {3, 4, 5, 6}\n",
      "Union: {1, 2, 3, 4, 5, 6}\n",
      "Intersection: {3, 4}\n",
      "Difference (A - B): {1, 2}\n"
     ]
    }
   ],
   "source": [
    "# Define two sets\n",
    "\n",
    "A = {1, 2, 3, 4}\n",
    "\n",
    "B = {3, 4, 5, 6}\n",
    "\n",
    " \n",
    "\n",
    "# Set operations in action\n",
    "\n",
    "union_set = A.union(B)            # Alternatively: A | B\n",
    "\n",
    "intersection_set = A.intersection(B)  # Alternatively: A & B\n",
    "\n",
    "difference_set = A.difference(B)  # Alternatively: A - B\n",
    "\n",
    " \n",
    "\n",
    "print(\"Set A:\", A)\n",
    "\n",
    "print(\"Set B:\", B)\n",
    "\n",
    "print(\"Union:\", union_set)\n",
    "\n",
    "print(\"Intersection:\", intersection_set)\n",
    "\n",
    "print(\"Difference (A - B):\", difference_set)"
   ]
  },
  {
   "cell_type": "code",
   "execution_count": 22,
   "id": "a6f0591d",
   "metadata": {},
   "outputs": [
    {
     "data": {
      "text/plain": [
       "25"
      ]
     },
     "execution_count": 22,
     "metadata": {},
     "output_type": "execute_result"
    }
   ],
   "source": [
    "#index: 0,1,2,3,4\n",
    "array=[5,10,15,20,25]\n",
    "array[-1]"
   ]
  },
  {
   "cell_type": "code",
   "execution_count": 23,
   "id": "480d3fe3",
   "metadata": {},
   "outputs": [],
   "source": [
    "array.append(40)\n"
   ]
  },
  {
   "cell_type": "code",
   "execution_count": 24,
   "id": "602317f1",
   "metadata": {},
   "outputs": [
    {
     "data": {
      "text/plain": [
       "[5, 10, 15, 20, 25, 40]"
      ]
     },
     "execution_count": 24,
     "metadata": {},
     "output_type": "execute_result"
    }
   ],
   "source": [
    "array.insert(0, 0)\n",
    "array[0]\n",
    "array.pop(0)\n",
    "array"
   ]
  },
  {
   "cell_type": "code",
   "execution_count": 27,
   "id": "2edcda59",
   "metadata": {},
   "outputs": [
    {
     "name": "stdout",
     "output_type": "stream",
     "text": [
      "Yes 40 is in the array\n"
     ]
    }
   ],
   "source": [
    "if 40 in array:\n",
    "    print(f\"Yes {40} is in the array\")"
   ]
  },
  {
   "cell_type": "code",
   "execution_count": 31,
   "id": "c5f4dac1",
   "metadata": {},
   "outputs": [
    {
     "name": "stdout",
     "output_type": "stream",
     "text": [
      "50 -> 40 -> 30 -> 20 -> 10 -> None\n"
     ]
    }
   ],
   "source": [
    "#singly linked list implementation\n",
    "#array=[[]10, []20, []30, []40, []50]\n",
    "class Node:\n",
    "    def __init__(self, data):\n",
    "        self.data = data\n",
    "        self.next = None\n",
    "\n",
    "class LinkedList:\n",
    "    def __init__(self):\n",
    "        self.head = None\n",
    "\n",
    "    def insert_front(self,data):\n",
    "        new_node=Node(data)\n",
    "        new_node.next = self.head\n",
    "        self.head = new_node\n",
    "\n",
    "    def print_list(self):\n",
    "        current = self.head\n",
    "        while current:\n",
    "            print(current.data, end=\" -> \")\n",
    "            current = current.next\n",
    "        print(\"None\")\n",
    "\n",
    "if __name__ == \"__main__\":\n",
    "    ll = LinkedList()\n",
    "    ll.insert_front(10)\n",
    "    ll.insert_front(20)\n",
    "    ll.insert_front(30)\n",
    "    ll.insert_front(40)\n",
    "    ll.insert_front(50)\n",
    "\n",
    "    ll.print_list()  # Outputs: 50 -> 40 -> 30 -> 20 -> 10 -> None\n",
    "\n",
    "\n",
    "class Dnone:\n",
    "    def __init__(self, data):\n",
    "        self.data = data\n",
    "        self.prev = None\n",
    "        self.next = None\n",
    "        "
   ]
  },
  {
   "cell_type": "code",
   "execution_count": 30,
   "id": "f8fee096",
   "metadata": {},
   "outputs": [
    {
     "name": "stdout",
     "output_type": "stream",
     "text": [
      "Reversed and joined list: [3, 2, 1, 4, 5, 6]\n"
     ]
    }
   ],
   "source": [
    "#reverse list\n",
    "#joining two lists\n",
    "list1 = [1, 2, 3]   \n",
    "list2 = [4, 5, 6]\n",
    "list1.reverse()\n",
    "list1.extend(list2)\n",
    "\n",
    "print(\"Reversed and joined list:\", list1)  # Outputs: [3, 2, 1, 4, 5, 6]"
   ]
  },
  {
   "cell_type": "markdown",
   "id": "d9fc4425",
   "metadata": {},
   "source": [
    "Stacks and queues\n",
    "\n",
    "STACK-LIFO"
   ]
  },
  {
   "cell_type": "code",
   "execution_count": 35,
   "id": "ad6fe509",
   "metadata": {},
   "outputs": [
    {
     "data": {
      "text/plain": [
       "50"
      ]
     },
     "execution_count": 35,
     "metadata": {},
     "output_type": "execute_result"
    }
   ],
   "source": [
    "stack=[]\n",
    "\n",
    "stack.append(10)\n",
    "stack.append(20)\n",
    "stack.append(30)\n",
    "stack.append(40)\n",
    "stack.append(50)\n",
    "stack[-1]\n"
   ]
  },
  {
   "cell_type": "code",
   "execution_count": 36,
   "id": "6fb4cb00",
   "metadata": {},
   "outputs": [
    {
     "data": {
      "text/plain": [
       "50"
      ]
     },
     "execution_count": 36,
     "metadata": {},
     "output_type": "execute_result"
    }
   ],
   "source": [
    "stack.pop()"
   ]
  },
  {
   "cell_type": "markdown",
   "id": "0ccc6ab4",
   "metadata": {},
   "source": [
    "Queue -FIF0"
   ]
  },
  {
   "cell_type": "code",
   "execution_count": 37,
   "id": "4006e1af",
   "metadata": {},
   "outputs": [
    {
     "name": "stdout",
     "output_type": "stream",
     "text": [
      "A\n"
     ]
    }
   ],
   "source": [
    "from collections import deque\n",
    "queue=deque()\n",
    "queue.append('A')\n",
    "queue.append('B')        \n",
    "queue.append('C')\n",
    "print(queue.popleft())  # Outputs: 10"
   ]
  },
  {
   "cell_type": "markdown",
   "id": "9adb3135",
   "metadata": {},
   "source": [
    "HASH TABLES\n"
   ]
  },
  {
   "cell_type": "code",
   "execution_count": 39,
   "id": "30b2f44e",
   "metadata": {},
   "outputs": [],
   "source": [
    "my_map={\n",
    "    'name': 'Alice',\n",
    "    'age': 30,\n",
    "    'city': 'Wonderland',\n",
    "    'job': 'Adventurer'\n",
    "}"
   ]
  },
  {
   "cell_type": "code",
   "execution_count": 41,
   "id": "bba42aa0",
   "metadata": {},
   "outputs": [
    {
     "data": {
      "text/plain": [
       "{'name': 'Alice',\n",
       " 'age': 30,\n",
       " 'city': 'Wonderland',\n",
       " 'job': 'Adventurer',\n",
       " 'country': 'Uganda'}"
      ]
     },
     "execution_count": 41,
     "metadata": {},
     "output_type": "execute_result"
    }
   ],
   "source": [
    "my_map['country']='Uganda'\n",
    "my_map"
   ]
  },
  {
   "cell_type": "code",
   "execution_count": 51,
   "id": "55430461",
   "metadata": {},
   "outputs": [
    {
     "ename": "NameError",
     "evalue": "name 'size' is not defined",
     "output_type": "error",
     "traceback": [
      "\u001b[31m---------------------------------------------------------------------------\u001b[39m",
      "\u001b[31mNameError\u001b[39m                                 Traceback (most recent call last)",
      "\u001b[36mCell\u001b[39m\u001b[36m \u001b[39m\u001b[32mIn[51]\u001b[39m\u001b[32m, line 24\u001b[39m\n\u001b[32m     20\u001b[39m                 \u001b[38;5;28;01mreturn\u001b[39;00m pair[\u001b[32m1\u001b[39m]\n\u001b[32m     22\u001b[39m         \u001b[38;5;28;01mreturn\u001b[39;00m \u001b[38;5;28;01mNone\u001b[39;00m\n\u001b[32m---> \u001b[39m\u001b[32m24\u001b[39m hm=Hashmap()\n\u001b[32m     25\u001b[39m hm.put(\u001b[33m'\u001b[39m\u001b[33mname\u001b[39m\u001b[33m'\u001b[39m, \u001b[33m'\u001b[39m\u001b[33mAlice\u001b[39m\u001b[33m'\u001b[39m)\n\u001b[32m     26\u001b[39m hm.put(\u001b[33m'\u001b[39m\u001b[33mage\u001b[39m\u001b[33m'\u001b[39m, \u001b[32m30\u001b[39m)\n",
      "\u001b[36mCell\u001b[39m\u001b[36m \u001b[39m\u001b[32mIn[51]\u001b[39m\u001b[32m, line 3\u001b[39m, in \u001b[36mHashmap.__init__\u001b[39m\u001b[34m(self)\u001b[39m\n\u001b[32m      2\u001b[39m \u001b[38;5;28;01mdef\u001b[39;00m\u001b[38;5;250m \u001b[39m\u001b[34m__init__\u001b[39m(\u001b[38;5;28mself\u001b[39m):\n\u001b[32m----> \u001b[39m\u001b[32m3\u001b[39m     \u001b[38;5;28mself\u001b[39m.size=size\n\u001b[32m      4\u001b[39m     \u001b[38;5;28mself\u001b[39m.table=[[] \u001b[38;5;28;01mfor\u001b[39;00m _ \u001b[38;5;129;01min\u001b[39;00m \u001b[38;5;28mrange\u001b[39m(size)]\n",
      "\u001b[31mNameError\u001b[39m: name 'size' is not defined"
     ]
    }
   ],
   "source": [
    "class Hashmap:\n",
    "    def __init__(self):\n",
    "        self.size=size\n",
    "        self.table=[[] for _ in range(size)]\n",
    "\n",
    "    def put(self, key, value):\n",
    "        h=hash(key) % self.size\n",
    "        for pair in self.table[h]:\n",
    "            if pair[0] == key:\n",
    "                pair[1] = value #update if key already exists\n",
    "                return\n",
    "            \n",
    "\n",
    "        self.table[h].append([key, value])  # Add new key-value pair\n",
    "\n",
    "    def get(self, key):\n",
    "        h = hash(key) % self.size\n",
    "        for pair in self.table[h]:\n",
    "            if pair[0] == key:\n",
    "                return pair[1]\n",
    "            \n",
    "        return None\n",
    "    \n",
    "hm=Hashmap()\n",
    "hm.put('name', 'Alice')\n",
    "hm.put('age', 30)\n",
    "\n",
    "print(hm.get('name'))  # Outputs: Alice\n",
    "print(hm.get('age'))   # Outputs: 30\n",
    "\n",
    "print(hm.get('email'))"
   ]
  }
 ],
 "metadata": {
  "kernelspec": {
   "display_name": "myenv",
   "language": "python",
   "name": "python3"
  },
  "language_info": {
   "codemirror_mode": {
    "name": "ipython",
    "version": 3
   },
   "file_extension": ".py",
   "mimetype": "text/x-python",
   "name": "python",
   "nbconvert_exporter": "python",
   "pygments_lexer": "ipython3",
   "version": "3.12.9"
  }
 },
 "nbformat": 4,
 "nbformat_minor": 5
}
